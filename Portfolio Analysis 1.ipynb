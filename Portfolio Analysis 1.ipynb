{
 "cells": [
  {
   "cell_type": "markdown",
   "id": "1c826b75-0cc1-46d0-bf21-b13bf7820964",
   "metadata": {},
   "source": [
    "# Portfolio Optimization"
   ]
  },
  {
   "cell_type": "markdown",
   "id": "6b925b87-06ef-4b1e-b2d8-15380f53d674",
   "metadata": {
    "panel-layout": {
     "height": 51.140625,
     "visible": true,
     "width": 100
    }
   },
   "source": [
    "Install YFinance to fetch real-time stock data"
   ]
  },
  {
   "cell_type": "code",
   "execution_count": 1,
   "id": "75fda06d-2c07-4944-ba34-8844ac2cb470",
   "metadata": {
    "scrolled": true
   },
   "outputs": [
    {
     "name": "stdout",
     "output_type": "stream",
     "text": [
      "Requirement already satisfied: yfinance in c:\\users\\hp\\anaconda3\\new\\lib\\site-packages (0.2.65)\n",
      "Requirement already satisfied: pandas>=1.3.0 in c:\\users\\hp\\anaconda3\\new\\lib\\site-packages (from yfinance) (2.2.3)\n",
      "Requirement already satisfied: numpy>=1.16.5 in c:\\users\\hp\\anaconda3\\new\\lib\\site-packages (from yfinance) (2.1.3)\n",
      "Requirement already satisfied: requests>=2.31 in c:\\users\\hp\\anaconda3\\new\\lib\\site-packages (from yfinance) (2.32.3)\n",
      "Requirement already satisfied: multitasking>=0.0.7 in c:\\users\\hp\\anaconda3\\new\\lib\\site-packages (from yfinance) (0.0.11)\n",
      "Requirement already satisfied: platformdirs>=2.0.0 in c:\\users\\hp\\anaconda3\\new\\lib\\site-packages (from yfinance) (4.3.7)\n",
      "Requirement already satisfied: pytz>=2022.5 in c:\\users\\hp\\anaconda3\\new\\lib\\site-packages (from yfinance) (2024.1)\n",
      "Requirement already satisfied: frozendict>=2.3.4 in c:\\users\\hp\\anaconda3\\new\\lib\\site-packages (from yfinance) (2.4.2)\n",
      "Requirement already satisfied: peewee>=3.16.2 in c:\\users\\hp\\anaconda3\\new\\lib\\site-packages (from yfinance) (3.18.2)\n",
      "Requirement already satisfied: beautifulsoup4>=4.11.1 in c:\\users\\hp\\anaconda3\\new\\lib\\site-packages (from yfinance) (4.12.3)\n",
      "Requirement already satisfied: curl_cffi>=0.7 in c:\\users\\hp\\anaconda3\\new\\lib\\site-packages (from yfinance) (0.12.0)\n",
      "Requirement already satisfied: protobuf>=3.19.0 in c:\\users\\hp\\anaconda3\\new\\lib\\site-packages (from yfinance) (5.29.3)\n",
      "Requirement already satisfied: websockets>=13.0 in c:\\users\\hp\\anaconda3\\new\\lib\\site-packages (from yfinance) (15.0.1)\n",
      "Requirement already satisfied: soupsieve>1.2 in c:\\users\\hp\\anaconda3\\new\\lib\\site-packages (from beautifulsoup4>=4.11.1->yfinance) (2.5)\n",
      "Requirement already satisfied: cffi>=1.12.0 in c:\\users\\hp\\anaconda3\\new\\lib\\site-packages (from curl_cffi>=0.7->yfinance) (1.17.1)\n",
      "Requirement already satisfied: certifi>=2024.2.2 in c:\\users\\hp\\anaconda3\\new\\lib\\site-packages (from curl_cffi>=0.7->yfinance) (2025.4.26)\n",
      "Requirement already satisfied: pycparser in c:\\users\\hp\\anaconda3\\new\\lib\\site-packages (from cffi>=1.12.0->curl_cffi>=0.7->yfinance) (2.21)\n",
      "Requirement already satisfied: python-dateutil>=2.8.2 in c:\\users\\hp\\anaconda3\\new\\lib\\site-packages (from pandas>=1.3.0->yfinance) (2.9.0.post0)\n",
      "Requirement already satisfied: tzdata>=2022.7 in c:\\users\\hp\\anaconda3\\new\\lib\\site-packages (from pandas>=1.3.0->yfinance) (2025.2)\n",
      "Requirement already satisfied: six>=1.5 in c:\\users\\hp\\anaconda3\\new\\lib\\site-packages (from python-dateutil>=2.8.2->pandas>=1.3.0->yfinance) (1.17.0)\n",
      "Requirement already satisfied: charset-normalizer<4,>=2 in c:\\users\\hp\\anaconda3\\new\\lib\\site-packages (from requests>=2.31->yfinance) (3.3.2)\n",
      "Requirement already satisfied: idna<4,>=2.5 in c:\\users\\hp\\anaconda3\\new\\lib\\site-packages (from requests>=2.31->yfinance) (3.7)\n",
      "Requirement already satisfied: urllib3<3,>=1.21.1 in c:\\users\\hp\\anaconda3\\new\\lib\\site-packages (from requests>=2.31->yfinance) (2.3.0)\n"
     ]
    }
   ],
   "source": [
    "#Install YFinance to fetch real-time stock data\n",
    "!pip install yfinance"
   ]
  },
  {
   "cell_type": "code",
   "execution_count": 2,
   "id": "399711f8-942d-431c-bc36-30c269045520",
   "metadata": {},
   "outputs": [],
   "source": [
    "#Import Required Libraries\n",
    "import yfinance as yf\n",
    "import pandas as pd\n",
    "from datetime import datetime, timedelta\n",
    "import numpy as np\n",
    "from scipy.optimize import minimize"
   ]
  },
  {
   "cell_type": "markdown",
   "id": "8f899cdd-511a-461d-9f17-2101ceacf7b7",
   "metadata": {
    "panel-layout": {
     "height": 51.140625,
     "visible": true,
     "width": 100
    }
   },
   "source": [
    "#### Define Tickers and Time Range"
   ]
  },
  {
   "cell_type": "code",
   "execution_count": 3,
   "id": "b814e00e-35c3-47c1-b62e-9d3c50c7c82d",
   "metadata": {},
   "outputs": [],
   "source": [
    "#Define the list of Tickers\n",
    "tickers = ['SPY','BND','GLD','QQQ','VTI']"
   ]
  },
  {
   "cell_type": "code",
   "execution_count": 4,
   "id": "3fd72b1d-06e7-4657-82c9-7c98e55499f2",
   "metadata": {},
   "outputs": [],
   "source": [
    "#Set the end date to today\n",
    "end_date = datetime.today()"
   ]
  },
  {
   "cell_type": "code",
   "execution_count": 5,
   "id": "a3e5049d-c942-472d-a9e4-ab7c0207e4b4",
   "metadata": {
    "panel-layout": {
     "height": 0,
     "visible": true,
     "width": 100
    }
   },
   "outputs": [
    {
     "name": "stdout",
     "output_type": "stream",
     "text": [
      "2020-07-29 20:37:59.020988\n"
     ]
    }
   ],
   "source": [
    "#Set the start date to 5 years ago\n",
    "start_date = end_date - timedelta(days = 5*365)\n",
    "print(start_date)"
   ]
  },
  {
   "cell_type": "markdown",
   "id": "361d4396-19d4-4854-9915-acaa7e6535e0",
   "metadata": {},
   "source": [
    "#### Download Adjusted Close Prices"
   ]
  },
  {
   "cell_type": "code",
   "execution_count": 6,
   "id": "d94dce81-9d84-4c70-82f5-92d67a333d54",
   "metadata": {},
   "outputs": [],
   "source": [
    "# Create an empty Dataframe to store the adjusted close prices \n",
    "adj_close_df = pd.DataFrame()"
   ]
  },
  {
   "cell_type": "code",
   "execution_count": 7,
   "id": "0fa26a5f-cbf5-498d-a955-15359380b211",
   "metadata": {},
   "outputs": [
    {
     "name": "stderr",
     "output_type": "stream",
     "text": [
      "C:\\Users\\hp\\AppData\\Local\\Temp\\ipykernel_25376\\3348814171.py:3: FutureWarning: YF.download() has changed argument auto_adjust default to True\n",
      "  data = yf.download(ticker, start= start_date, end= end_date)\n",
      "[*********************100%***********************]  1 of 1 completed\n",
      "C:\\Users\\hp\\AppData\\Local\\Temp\\ipykernel_25376\\3348814171.py:3: FutureWarning: YF.download() has changed argument auto_adjust default to True\n",
      "  data = yf.download(ticker, start= start_date, end= end_date)\n",
      "[*********************100%***********************]  1 of 1 completed\n",
      "C:\\Users\\hp\\AppData\\Local\\Temp\\ipykernel_25376\\3348814171.py:3: FutureWarning: YF.download() has changed argument auto_adjust default to True\n",
      "  data = yf.download(ticker, start= start_date, end= end_date)\n",
      "[*********************100%***********************]  1 of 1 completed\n",
      "C:\\Users\\hp\\AppData\\Local\\Temp\\ipykernel_25376\\3348814171.py:3: FutureWarning: YF.download() has changed argument auto_adjust default to True\n",
      "  data = yf.download(ticker, start= start_date, end= end_date)\n",
      "[*********************100%***********************]  1 of 1 completed\n",
      "C:\\Users\\hp\\AppData\\Local\\Temp\\ipykernel_25376\\3348814171.py:3: FutureWarning: YF.download() has changed argument auto_adjust default to True\n",
      "  data = yf.download(ticker, start= start_date, end= end_date)\n",
      "[*********************100%***********************]  1 of 1 completed\n"
     ]
    }
   ],
   "source": [
    "# Download the close prices for each other\n",
    "for ticker in tickers:\n",
    "    data = yf.download(ticker, start= start_date, end= end_date)\n",
    "    adj_close_df[ticker] = data['Close']"
   ]
  },
  {
   "cell_type": "code",
   "execution_count": 8,
   "id": "7645dd24-f157-4fa9-8fd6-1e5e2e23d591",
   "metadata": {
    "panel-layout": {
     "height": 0,
     "visible": true,
     "width": 100
    }
   },
   "outputs": [
    {
     "name": "stdout",
     "output_type": "stream",
     "text": [
      "                   SPY        BND         GLD         QQQ         VTI\n",
      "Date                                                                 \n",
      "2020-07-30  301.644989  77.315674  183.759995  253.568878  153.080292\n",
      "2020-07-31  304.028656  77.419518  185.429993  258.094055  153.861084\n",
      "2020-08-03  306.142365  77.392639  185.639999  261.580017  155.199707\n",
      "2020-08-04  307.324890  77.557343  189.589996  262.551025  155.813187\n",
      "2020-08-05  309.233612  77.453339  191.350006  263.201721  156.947250\n",
      "...                ...        ...         ...         ...         ...\n",
      "2025-07-22  628.859985  73.180000  316.100006  561.250000  309.799988\n",
      "2025-07-23  634.210022  73.029999  312.179993  563.809998  312.410004\n",
      "2025-07-24  634.419983  72.940002  310.269989  565.010010  312.299988\n",
      "2025-07-25  637.099976  73.120003  307.399994  566.369995  313.690002\n",
      "2025-07-28  637.369995  72.990303  304.710297  568.239990  313.809998\n",
      "\n",
      "[1254 rows x 5 columns]\n"
     ]
    }
   ],
   "source": [
    "# Display the dataframes\n",
    "print(adj_close_df)"
   ]
  },
  {
   "cell_type": "markdown",
   "id": "052d3008-5b32-47ed-8eb8-794f00b59614",
   "metadata": {},
   "source": [
    "#### Calculate the Lognormal Returns"
   ]
  },
  {
   "cell_type": "code",
   "execution_count": 9,
   "id": "bcb76c5a-3c3b-4ce6-9e9e-6c1f066c11db",
   "metadata": {},
   "outputs": [],
   "source": [
    "# Calculate the lognormal returns for each ticker\n",
    "log_returns = np.log(adj_close_df/ adj_close_df.shift(1))"
   ]
  },
  {
   "cell_type": "code",
   "execution_count": 10,
   "id": "eea99419-8982-4893-b193-a4e3576ef1e1",
   "metadata": {},
   "outputs": [],
   "source": [
    "# Drop any missing values\n",
    "log_returns = log_returns.dropna()"
   ]
  },
  {
   "cell_type": "markdown",
   "id": "aa8030a4-0084-41c1-b331-fd7f8d76926d",
   "metadata": {},
   "source": [
    "#### Calculate the Covariance Matrix"
   ]
  },
  {
   "cell_type": "code",
   "execution_count": 11,
   "id": "a452cb41-6d72-4b34-bc90-c45630c6639b",
   "metadata": {},
   "outputs": [],
   "source": [
    "# Calculate the covariance matrix using annualized log returns\n",
    "cov_matrix = log_returns.cov()*252"
   ]
  },
  {
   "cell_type": "code",
   "execution_count": 12,
   "id": "5bda70d0-9d7a-45b7-bcde-1870ba00a8c0",
   "metadata": {
    "panel-layout": {
     "height": 0,
     "visible": true,
     "width": 100
    }
   },
   "outputs": [
    {
     "name": "stdout",
     "output_type": "stream",
     "text": [
      "          SPY       BND       GLD       QQQ       VTI\n",
      "SPY  0.030589  0.001946  0.003724  0.038307  0.031063\n",
      "BND  0.001946  0.003578  0.003119  0.002786  0.002037\n",
      "GLD  0.003724  0.003119  0.023794  0.005014  0.003877\n",
      "QQQ  0.038307  0.002786  0.005014  0.054440  0.038971\n",
      "VTI  0.031063  0.002037  0.003877  0.038971  0.031877\n"
     ]
    }
   ],
   "source": [
    "# Display the Covariance matrix\n",
    "print(cov_matrix)"
   ]
  },
  {
   "cell_type": "markdown",
   "id": "b81c6e59-e16e-444d-a64c-1fc6d76aeadc",
   "metadata": {},
   "source": [
    "#### Define Portfolio Performance Metrics"
   ]
  },
  {
   "cell_type": "markdown",
   "id": "86134e9e-d3cb-4381-820f-4c0ce66dcd54",
   "metadata": {},
   "source": [
    "Calculate the portfolio standard deviation"
   ]
  },
  {
   "cell_type": "markdown",
   "id": "8ba0ffdd-6694-404e-98c1-721e58e74484",
   "metadata": {},
   "source": [
    "This line of code calculates the portfolio variance, which is a measure of the risk associated with a portfolio of assets. It represents the combined volatility of the assets in the portfolio, taking into account their individual volatilities and correlations with each other."
   ]
  },
  {
   "cell_type": "code",
   "execution_count": 13,
   "id": "f1ec3a72-82b0-4933-8939-9ac6fa987238",
   "metadata": {},
   "outputs": [],
   "source": [
    "def standard_deviation (weights, cov_matrix):\n",
    "    variance = weights.T @ cov_matrix @ weights\n",
    "    return np.sqrt(variance)"
   ]
  },
  {
   "cell_type": "markdown",
   "id": "f7b9871b-ed23-4c78-952e-b1adf7aa7cd4",
   "metadata": {},
   "source": [
    "###### Calculate the expected return"
   ]
  },
  {
   "cell_type": "code",
   "execution_count": 14,
   "id": "9f0c252f-9d55-45fa-b1f4-8df99c10caff",
   "metadata": {},
   "outputs": [],
   "source": [
    "#Calculate the expected return\n",
    "def expected_return (weights, log_returns):\n",
    "    return np.sum(log_returns.mean()*weights)*252"
   ]
  },
  {
   "cell_type": "markdown",
   "id": "04c78182-3ca1-42b5-ac1d-e3b662017457",
   "metadata": {},
   "source": [
    "#### Calculate the Sharp Ratio"
   ]
  },
  {
   "cell_type": "code",
   "execution_count": 15,
   "id": "dff456c3-bf4c-48ad-9e94-cf448a0b235e",
   "metadata": {},
   "outputs": [],
   "source": [
    "#Calculate the Sharp Ratio\n",
    "def sharp_ratio(weights, log_returns, cov_matrix, risk_free_rate):\n",
    "    return(expected_return (weights, log_returns)-risk_free_rate) / standard_deviation (weights, cov_matrix)"
   ]
  },
  {
   "cell_type": "markdown",
   "id": "f3ed9068-1b8d-457b-9f09-483fce042e2f",
   "metadata": {},
   "source": [
    "# Portfolio Optimization"
   ]
  },
  {
   "cell_type": "markdown",
   "id": "bfceea6c-7148-4b00-9ff9-17b4f8e67ebb",
   "metadata": {},
   "source": [
    "#### Set the risk-free rate"
   ]
  },
  {
   "cell_type": "code",
   "execution_count": 16,
   "id": "6fed4bf0-8316-436c-b8e3-0184319e1572",
   "metadata": {},
   "outputs": [
    {
     "name": "stdout",
     "output_type": "stream",
     "text": [
      "Requirement already satisfied: fredapi in c:\\users\\hp\\anaconda3\\new\\lib\\site-packages (0.5.2)\n",
      "Requirement already satisfied: pandas in c:\\users\\hp\\anaconda3\\new\\lib\\site-packages (from fredapi) (2.2.3)\n",
      "Requirement already satisfied: numpy>=1.26.0 in c:\\users\\hp\\anaconda3\\new\\lib\\site-packages (from pandas->fredapi) (2.1.3)\n",
      "Requirement already satisfied: python-dateutil>=2.8.2 in c:\\users\\hp\\anaconda3\\new\\lib\\site-packages (from pandas->fredapi) (2.9.0.post0)\n",
      "Requirement already satisfied: pytz>=2020.1 in c:\\users\\hp\\anaconda3\\new\\lib\\site-packages (from pandas->fredapi) (2024.1)\n",
      "Requirement already satisfied: tzdata>=2022.7 in c:\\users\\hp\\anaconda3\\new\\lib\\site-packages (from pandas->fredapi) (2025.2)\n",
      "Requirement already satisfied: six>=1.5 in c:\\users\\hp\\anaconda3\\new\\lib\\site-packages (from python-dateutil>=2.8.2->pandas->fredapi) (1.17.0)\n"
     ]
    }
   ],
   "source": [
    "!pip install fredapi"
   ]
  },
  {
   "cell_type": "code",
   "execution_count": 17,
   "id": "11878307-3cb6-4b3e-9e03-62251efd40a2",
   "metadata": {
    "panel-layout": {
     "height": 0,
     "visible": true,
     "width": 100
    }
   },
   "outputs": [
    {
     "name": "stdout",
     "output_type": "stream",
     "text": [
      "0.0438\n"
     ]
    }
   ],
   "source": [
    "from fredapi import Fred\n",
    "\n",
    "# Replace 'your_api_key' with your actual FRED API key\n",
    "fred = Fred(api_key= '5eb62ba507858d72e2b544a317c01fcc')\n",
    "ten_year_treasury_rate = fred.get_series_latest_release('GS10') / 100\n",
    "\n",
    "# Set risk-free rate \n",
    "risk_free_rate = ten_year_treasury_rate.iloc[-1]\n",
    "print (risk_free_rate)"
   ]
  },
  {
   "cell_type": "markdown",
   "id": "ba50fe60-f395-4a7f-9627-de18ef42d436",
   "metadata": {},
   "source": [
    "#### Define the function to minimize (negative Sharp ratio)"
   ]
  },
  {
   "cell_type": "markdown",
   "id": "56b119b8-d732-4c88-8c9b-9dccdf91e795",
   "metadata": {},
   "source": [
    "In the case of the sripy.optimize.minimize() function, there is no direct method to find the maximun value of function."
   ]
  },
  {
   "cell_type": "code",
   "execution_count": 18,
   "id": "0e819cc7-a676-4e77-9643-3b025a880faa",
   "metadata": {},
   "outputs": [],
   "source": [
    "# Function to negative Sharp ratio\n",
    "def neg_sharp_ratio(weights, log_returns, cov_matrix, risk_free_rate):\n",
    "    return -sharp_ratio(weights, log_returns, cov_matrix, risk_free_rate)"
   ]
  },
  {
   "cell_type": "markdown",
   "id": "4b0aa597-6e5f-4cb4-9575-75a616f205be",
   "metadata": {},
   "source": [
    "#### Set the constraints and bounds"
   ]
  },
  {
   "cell_type": "markdown",
   "id": "9085dd64-e348-48a1-a90a-442db6396b7b",
   "metadata": {},
   "source": [
    "Constraints are conditions that must be met by the solution during the optimization process. In this case, the constraint is that the sum of all portfolio weights must be equal to 1. The constraints variable is a dictionary with two keys: 'type' and 'fun'. 'type is set to 'eq', which means \"equality constraint\", and 'fun' is assigned the function check_sum, which checks if the sum of the portfolio weights equals 1.\n",
    "\n",
    "Bounds are the limits placed on the variables during the optimization process. In this case, the variables are the portfolio weights, and each weight should be between 0 and 1."
   ]
  },
  {
   "cell_type": "code",
   "execution_count": 19,
   "id": "75590e2c-5348-4f08-83dc-8ffcdc85c2f9",
   "metadata": {},
   "outputs": [],
   "source": [
    "# Constraints: sum of weights = 1\n",
    "constraints = {'type': 'eq', 'fun': lambda weights: np.sum(weights) - 1}\n",
    "\n",
    "# Bounds: Each weight between 0 and 0.5\n",
    "bounds = [(0, 0.5) for _ in range(len(tickers))]"
   ]
  },
  {
   "cell_type": "markdown",
   "id": "b87df85c-6f60-4f35-890d-1897bd46bd49",
   "metadata": {},
   "source": [
    "#### Set the initial weights"
   ]
  },
  {
   "cell_type": "code",
   "execution_count": 20,
   "id": "db7e6774-085c-47b8-97e1-c1f00e4ddfa6",
   "metadata": {
    "panel-layout": {
     "height": 0,
     "visible": true,
     "width": 100
    }
   },
   "outputs": [
    {
     "name": "stdout",
     "output_type": "stream",
     "text": [
      "[0.2 0.2 0.2 0.2 0.2]\n"
     ]
    }
   ],
   "source": [
    "#Set the initial weights\n",
    "initial_weights = np.array([1/len(tickers)]*len(tickers))\n",
    "print(initial_weights)"
   ]
  },
  {
   "cell_type": "markdown",
   "id": "b84ca4ae-96d0-4876-8ae3-44bd24053470",
   "metadata": {},
   "source": [
    "#### Optimize the weights to maximize Sharp Ratio"
   ]
  },
  {
   "cell_type": "markdown",
   "id": "409996df-f432-49ea-86ad-6a682b6d6d10",
   "metadata": {},
   "source": [
    "'SLSQP' stands for Sequential Least Squares Quadratics Programming, which is a numerical optimization technique suitable for solving nonlinear optimization problems with constraints."
   ]
  },
  {
   "cell_type": "code",
   "execution_count": 21,
   "id": "c3503f0c-42b1-456b-9d72-a79178be9b5c",
   "metadata": {},
   "outputs": [],
   "source": [
    "#Optimize the weights to maximize Sharp Ratio\n",
    "optimized_results = minimize(neg_sharp_ratio, initial_weights, args=(log_returns, cov_matrix, risk_free_rate), method='SLSQP', constraints=constraints, bounds=bounds)"
   ]
  },
  {
   "cell_type": "markdown",
   "id": "ea90e9e4-6bb8-4ea0-87c4-956a5433736b",
   "metadata": {},
   "source": [
    "#### Get the optimal weights"
   ]
  },
  {
   "cell_type": "code",
   "execution_count": 22,
   "id": "e66c99d6-0103-489c-9e3f-1433eff7016c",
   "metadata": {},
   "outputs": [],
   "source": [
    "optimal_weights = optimized_results.x"
   ]
  },
  {
   "cell_type": "code",
   "execution_count": 23,
   "id": "61e1e911-e423-4349-9c49-eca6f737b2a8",
   "metadata": {
    "panel-layout": {
     "height": 0,
     "visible": true,
     "width": 100
    }
   },
   "outputs": [
    {
     "name": "stdout",
     "output_type": "stream",
     "text": [
      "Optimal Weights Shape: (5,)\n"
     ]
    }
   ],
   "source": [
    "print(\"Optimal Weights Shape:\", optimal_weights.shape)"
   ]
  },
  {
   "cell_type": "markdown",
   "id": "9a04859c-4715-4bf8-b2f9-7fd3de1536ae",
   "metadata": {},
   "source": [
    "## Analyze the Optimal Portfolio"
   ]
  },
  {
   "cell_type": "markdown",
   "id": "5553b605-0ebe-4279-a91c-2e5ec9c40c56",
   "metadata": {},
   "source": [
    "#### Display analytics of the optimal portfolio"
   ]
  },
  {
   "cell_type": "code",
   "execution_count": 24,
   "id": "be34fd1c-06c9-475e-ae1d-a59ea5c7feeb",
   "metadata": {
    "panel-layout": {
     "height": 0,
     "visible": true,
     "width": 100
    }
   },
   "outputs": [
    {
     "name": "stdout",
     "output_type": "stream",
     "text": [
      "Optimal Weights:\n",
      "SPY: 0.5000\n",
      "BND: 0.0000\n",
      "GLD: 0.4064\n",
      "QQQ: 0.0000\n",
      "VTI: 0.0936\n",
      "\n",
      "Expected Annual Return: 0.1301\n",
      "Expected Volatility: 0.1287\n",
      "Sharpe Ratio: 0.6702\n"
     ]
    }
   ],
   "source": [
    "#Display analytics of the optimal portfolio\n",
    "print(\"Optimal Weights:\")\n",
    "for ticker, weight in zip(tickers, optimal_weights):\n",
    "    print(f\"{ticker}: {weight:.4f}\")\n",
    "\n",
    "print()\n",
    "\n",
    "optimal_portfolio_return = expected_return(optimal_weights, log_returns)\n",
    "optimal_portfolio_volatility = standard_deviation(optimal_weights, cov_matrix)\n",
    "optimal_sharp_ratio = sharp_ratio(optimal_weights, log_returns, cov_matrix, risk_free_rate)\n",
    "\n",
    "print(f\"Expected Annual Return: {optimal_portfolio_return:.4f}\")\n",
    "print(f\"Expected Volatility: {optimal_portfolio_volatility:.4f}\")\n",
    "print(f\"Sharpe Ratio: {optimal_sharp_ratio:.4f}\")"
   ]
  },
  {
   "cell_type": "markdown",
   "id": "6415cf1f-4bc2-4bc2-9ba6-d3d37c369359",
   "metadata": {},
   "source": [
    "#### Display the final portfolio in a plot"
   ]
  },
  {
   "cell_type": "code",
   "execution_count": 25,
   "id": "0bdb3cb3-a021-4f72-9f76-9f928d6e5430",
   "metadata": {
    "panel-layout": {
     "height": 874,
     "visible": true,
     "width": 100
    }
   },
   "outputs": [
    {
     "data": {
      "image/png": "[encoded data removed]",
      "text/plain": [
       "<Figure size 1000x600 with 1 Axes>"
      ]
     },
     "metadata": {},
     "output_type": "display_data"
    }
   ],
   "source": [
    "#Display the final portfolio in a plot\n",
    "import matplotlib.pyplot as plt\n",
    "\n",
    "#Import the required library\n",
    "import matplotlib.pyplot as plt\n",
    "\n",
    "#Create a bar chart of the optimal weights\n",
    "plt.figure(figsize=(10,6))\n",
    "plt.bar(tickers, optimal_weights)\n",
    "\n",
    "#Add labels and a title\n",
    "plt.xlabel('Assets')\n",
    "plt.ylabel('Optimal Weights')\n",
    "plt.title('Optimal Portfolio Weights')\n",
    "\n",
    "#Display the Chart\n",
    "plt.show()"
   ]
  },
  {
   "cell_type": "code",
   "execution_count": null,
   "id": "a3e4b911-f2c5-4525-9b00-d7bf7f2971fd",
   "metadata": {},
   "outputs": [],
   "source": []
  }
 ],
 "metadata": {
  "kernelspec": {
   "display_name": "Python 3 (ipykernel)",
   "language": "python",
   "name": "python3"
  },
  "language_info": {
   "codemirror_mode": {
    "name": "ipython",
    "version": 3
   },
   "file_extension": ".py",
   "mimetype": "text/x-python",
   "name": "python",
   "nbconvert_exporter": "python",
   "pygments_lexer": "ipython3",
   "version": "3.13.5"
  },
  "panel-cell-order": [
   "6b925b87-06ef-4b1e-b2d8-15380f53d674",
   "8f899cdd-511a-461d-9f17-2101ceacf7b7",
   "a3e5049d-c942-472d-a9e4-ab7c0207e4b4",
   "7645dd24-f157-4fa9-8fd6-1e5e2e23d591",
   "5bda70d0-9d7a-45b7-bcde-1870ba00a8c0",
   "11878307-3cb6-4b3e-9e03-62251efd40a2",
   "db7e6774-085c-47b8-97e1-c1f00e4ddfa6",
   "61e1e911-e423-4349-9c49-eca6f737b2a8",
   "be34fd1c-06c9-475e-ae1d-a59ea5c7feeb",
   "0bdb3cb3-a021-4f72-9f76-9f928d6e5430"
  ]
 },
 "nbformat": 4,
 "nbformat_minor": 5
}
